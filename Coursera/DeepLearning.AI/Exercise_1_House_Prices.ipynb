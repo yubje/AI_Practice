{
 "cells": [
  {
   "cell_type": "markdown",
   "metadata": {},
   "source": [
    "# Exercise 1 - House Prices"
   ]
  },
  {
   "cell_type": "code",
   "execution_count": 0,
   "metadata": {
    "colab": {},
    "colab_type": "code",
    "id": "zX4Kg8DUTKWO"
   },
   "outputs": [],
   "source": [
    "#@title Licensed under the Apache License, Version 2.0 (the \"License\");\n",
    "# you may not use this file except in compliance with the License.\n",
    "# You may obtain a copy of the License at\n",
    "#\n",
    "# https://www.apache.org/licenses/LICENSE-2.0\n",
    "#\n",
    "# Unless required by applicable law or agreed to in writing, software\n",
    "# distributed under the License is distributed on an \"AS IS\" BASIS,\n",
    "# WITHOUT WARRANTIES OR CONDITIONS OF ANY KIND, either express or implied.\n",
    "# See the License for the specific language governing permissions and\n",
    "# limitations under the License."
   ]
  },
  {
   "cell_type": "markdown",
   "metadata": {
    "colab_type": "text",
    "id": "mw2VBrBcgvGa"
   },
   "source": [
    "In this exercise you'll try to build a neural network that predicts the price of a house according to a simple formula.\n",
    "\n",
    "So, imagine if house pricing was as easy as a house costs 50k + 50k per bedroom, so that a 1 bedroom house costs 100k, a 2 bedroom house costs 150k etc.\n",
    "\n",
    "How would you create a neural network that learns this relationship so that it would predict a 7 bedroom house as costing close to 400k etc.\n",
    "\n",
    "Hint: Your network might work better if you scale the house price down. You don't have to give the answer 400...it might be better to create something that predicts the number 4, and then your answer is in the 'hundreds of thousands' etc."
   ]
  },
  {
   "cell_type": "markdown",
   "metadata": {},
   "source": [
    "### 1. 라이브러리 불러오기"
   ]
  },
  {
   "cell_type": "code",
   "execution_count": 1,
   "metadata": {
    "colab": {},
    "colab_type": "code",
    "id": "PUNO2E6SeURH"
   },
   "outputs": [],
   "source": [
    "import tensorflow as tf\n",
    "import numpy as np\n",
    "from tensorflow import keras"
   ]
  },
  {
   "cell_type": "markdown",
   "metadata": {},
   "source": [
    "### 2. 데이터 준비\n",
    "* `np.array` 를 활용하여 데이터셋 지정\n",
    "* `xs` : 독립변수\n",
    "* `ys` : 종속변수"
   ]
  },
  {
   "cell_type": "code",
   "execution_count": 8,
   "metadata": {},
   "outputs": [
    {
     "name": "stdout",
     "output_type": "stream",
     "text": [
      "(6,) (6,)\n"
     ]
    }
   ],
   "source": [
    "xs = np.array([1.0, 2.0, 3.0, 4.0, 5.0, 6.0])\n",
    "ys = np.array([1.0, 1.5, 2.0, 2.5, 3.0, 3.5])\n",
    "print(xs.shape, ys.shape)"
   ]
  },
  {
   "cell_type": "markdown",
   "metadata": {},
   "source": [
    "### 3. 모델 생성"
   ]
  },
  {
   "cell_type": "markdown",
   "metadata": {},
   "source": [
    "#### 1) Coursera \n",
    "(1) 독립변수 & 종속변수 지정\n",
    "\n",
    ": **keras.layers.Dense(units=`dimension of dependent variable`, input_shape=`dimension of independent variable`)**"
   ]
  },
  {
   "cell_type": "code",
   "execution_count": 9,
   "metadata": {},
   "outputs": [],
   "source": [
    "X = keras.layers.Dense(units=1, input_shape=[1])"
   ]
  },
  {
   "cell_type": "markdown",
   "metadata": {},
   "source": [
    "(2) Sequential 모델 사용\n",
    "* 차례로 계층을 쌓아갈 때 사용\n",
    "* 각 레이어에 정확히 하나의 입력 텐서와 하나의 출력 텐서가 있는 일반 레이어 스택에 적합"
   ]
  },
  {
   "cell_type": "code",
   "execution_count": 10,
   "metadata": {},
   "outputs": [],
   "source": [
    "model = tf.keras.Sequential([X])"
   ]
  },
  {
   "cell_type": "markdown",
   "metadata": {},
   "source": [
    "(2) Compilation\n",
    "* 모델을 정의하고 학습하기 전에 .compile() 메서드를 사용하여 학습에 대한 설정을 함\n",
    "\n",
    "\n",
    "1. Optimizer: 최적화 함수를 설정하는 부분\n",
    "           'sgd', 'adam', 'rmsprop' 등 문자열타입으로 설정\n",
    "            \n",
    "2. Loss function: 손실함수를 설정해주는 부분\n",
    "           'categorical_crossentropy', 'mse' 처럼 문자열타입으로 설정\n",
    "              \n",
    "3. Metrics: 모델의 성능을 판정하는데 사용하는 지표 함수\n",
    "           ['accuracy'] 처럼 리스트 형태로 설정\n",
    "\n",
    "\n",
    "#### `sgd` (Stochastic Gradient Descent, 확률적 경사하강법)\n",
    "* 전체 데이터의 일부(mini batch)만 보고 loss function 값을 계산해 빠르게 loss function의 최솟값을 찾아나가는 방법\n",
    "* 다소 부정확할 수 있지만, 훨씬 계산 속도가 빨라 같은 시간에 더 많은 step을 갈 수 있고, 여러 번 반복할 경우 보통 batch의 결과와 유사하게 수렴함\n",
    "* Stochastic : 전체 Training 데이터 셋에서 '랜덤 샘플링'해서 mini batch를 만든다는 뜻\n",
    "* **조금씩 데이터를 검토한 뒤 자주 방향을 찾자**"
   ]
  },
  {
   "cell_type": "code",
   "execution_count": null,
   "metadata": {},
   "outputs": [],
   "source": [
    "model.compile(optimizer='sgd', loss='mean_squared_error')"
   ]
  },
  {
   "cell_type": "markdown",
   "metadata": {},
   "source": [
    "#### 2) 생활코딩"
   ]
  },
  {
   "cell_type": "code",
   "execution_count": 11,
   "metadata": {},
   "outputs": [],
   "source": [
    "X = keras.layers.Input(shape=[1]) # 독립변수 : 1개\n",
    "Y = tf.keras.layers.Dense(1)(X)   # 종속변수 : 1개\n",
    "\n",
    "model = tf.keras.models.Model(X, Y)\n",
    "model.compile(optimizer='sgd', loss='mean_squared_error')"
   ]
  },
  {
   "cell_type": "code",
   "execution_count": 4,
   "metadata": {},
   "outputs": [
    {
     "name": "stdout",
     "output_type": "stream",
     "text": [
      "Epoch 1/10\n",
      "1/1 [==============================] - 0s 29ms/step - loss: 4.8603e-05\n",
      "Epoch 2/10\n",
      "1/1 [==============================] - 0s 45ms/step - loss: 4.8249e-05\n",
      "Epoch 3/10\n",
      "1/1 [==============================] - 0s 15ms/step - loss: 4.7898e-05\n",
      "Epoch 4/10\n",
      "1/1 [==============================] - 0s 13ms/step - loss: 4.7548e-05\n",
      "Epoch 5/10\n",
      "1/1 [==============================] - 0s 20ms/step - loss: 4.7202e-05\n",
      "Epoch 6/10\n",
      "1/1 [==============================] - 0s 17ms/step - loss: 4.6859e-05\n",
      "Epoch 7/10\n",
      "1/1 [==============================] - 0s 7ms/step - loss: 4.6517e-05\n",
      "Epoch 8/10\n",
      "1/1 [==============================] - 0s 6ms/step - loss: 4.6178e-05\n",
      "Epoch 9/10\n",
      "1/1 [==============================] - 0s 6ms/step - loss: 4.5842e-05\n",
      "Epoch 10/10\n",
      "1/1 [==============================] - 0s 5ms/step - loss: 4.5507e-05\n"
     ]
    },
    {
     "data": {
      "text/plain": [
       "<tensorflow.python.keras.callbacks.History at 0x7df3b3c898>"
      ]
     },
     "execution_count": 4,
     "metadata": {},
     "output_type": "execute_result"
    }
   ],
   "source": [
    "model.fit(xs, ys, epochs=990, verbose=0)\n",
    "model.fit(xs, ys, epochs=10)"
   ]
  },
  {
   "cell_type": "code",
   "execution_count": 5,
   "metadata": {},
   "outputs": [
    {
     "name": "stdout",
     "output_type": "stream",
     "text": [
      "[[4.0097303]]\n"
     ]
    }
   ],
   "source": [
    "print(model.predict([7.0]))"
   ]
  }
 ],
 "metadata": {
  "colab": {
   "name": "Exercise_1_House_Prices_Question.ipynb",
   "provenance": [],
   "toc_visible": true,
   "version": "0.3.2"
  },
  "kernelspec": {
   "display_name": "Python 3",
   "language": "python",
   "name": "python3"
  },
  "language_info": {
   "codemirror_mode": {
    "name": "ipython",
    "version": 3
   },
   "file_extension": ".py",
   "mimetype": "text/x-python",
   "name": "python",
   "nbconvert_exporter": "python",
   "pygments_lexer": "ipython3",
   "version": "3.7.3"
  }
 },
 "nbformat": 4,
 "nbformat_minor": 1
}
