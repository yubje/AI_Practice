{
  "nbformat": 4,
  "nbformat_minor": 0,
  "metadata": {
    "colab": {
      "name": "코딩야학.ipynb",
      "provenance": [],
      "collapsed_sections": [],
      "toc_visible": true,
      "authorship_tag": "ABX9TyO6I8Tm/HNs4N8J7993EyR5",
      "include_colab_link": true
    },
    "kernelspec": {
      "name": "python3",
      "display_name": "Python 3"
    }
  },
  "cells": [
    {
      "cell_type": "markdown",
      "metadata": {
        "id": "view-in-github",
        "colab_type": "text"
      },
      "source": [
        "<a href=\"https://colab.research.google.com/github/yubje/AI_Practice/blob/main/tensorflow101_%EC%83%9D%ED%99%9C%EC%BD%94%EB%94%A9.ipynb\" target=\"_parent\"><img src=\"https://colab.research.google.com/assets/colab-badge.svg\" alt=\"Open In Colab\"/></a>"
      ]
    },
    {
      "cell_type": "code",
      "metadata": {
        "id": "vwyIJQfGq07x",
        "colab": {
          "base_uri": "https://localhost:8080/"
        },
        "outputId": "2f7952c9-d957-407d-9bc5-b512d3042982"
      },
      "source": [
        "# 라이브러리 사용\n",
        "import pandas as pd\n",
        "import tensorflow as tf\n",
        "\n",
        "# 데이터 읽어오기 \n",
        "file_route1 = 'https://raw.githubusercontent.com/blackdew/tensorflow1/master/csv/lemonade.csv'\n",
        "lemonade = pd.read_csv(file_route1)\n",
        "\n",
        "# 데이터 모양 확인\n",
        "print(lemonade.shape)\n",
        "print(iris.shape)\n",
        "print()\n",
        "\n",
        "# 데이터 열 이름 확인\n",
        "print(lemonade.columns)\n",
        "print(iris.columns)\n",
        "print()\n",
        "\n",
        "# 데이터 상위 5개 확인 \n",
        "print(lemonade.head())\n"
      ],
      "execution_count": 23,
      "outputs": [
        {
          "output_type": "stream",
          "text": [
            "(6, 2)\n",
            "(150, 5)\n",
            "\n",
            "Index(['온도', '판매량'], dtype='object')\n",
            "Index(['꽃잎길이', '꽃잎폭', '꽃받침길이', '꽃받침폭', '품종'], dtype='object')\n",
            "\n",
            "   온도  판매량\n",
            "0  20   40\n",
            "1  21   42\n",
            "2  22   44\n",
            "3  23   46\n",
            "4  24   48\n",
            "\n",
            "       nox  lstat  medv\n",
            "0    0.538   4.98  24.0\n",
            "1    0.469   9.14  21.6\n",
            "2    0.469   4.03  34.7\n",
            "3    0.458   2.94  33.4\n",
            "4    0.458   5.33  36.2\n",
            "..     ...    ...   ...\n",
            "501  0.573   9.67  22.4\n",
            "502  0.573   9.08  20.6\n",
            "503  0.573   5.64  23.9\n",
            "504  0.573   6.48  22.0\n",
            "505  0.573   7.88  11.9\n",
            "\n",
            "[506 rows x 3 columns]\n"
          ],
          "name": "stdout"
        }
      ]
    },
    {
      "cell_type": "markdown",
      "metadata": {
        "id": "UTP7Ubd1uu_h"
      },
      "source": [
        "# 레몬에이드 판매 예측"
      ]
    },
    {
      "cell_type": "code",
      "metadata": {
        "id": "Aj-kFfG9u06y",
        "colab": {
          "base_uri": "https://localhost:8080/"
        },
        "outputId": "906a5df1-1ac3-41e8-bfea-166e5de229e2"
      },
      "source": [
        "# 독립 변수와 종속 변수 분리 \n",
        "independent = lemonade[['온도']]\n",
        "dependent = lemonade[['판매량']]\n",
        "\n",
        "print(independent)\n",
        "print(dependent)"
      ],
      "execution_count": 19,
      "outputs": [
        {
          "output_type": "stream",
          "text": [
            "   온도\n",
            "0  20\n",
            "1  21\n",
            "2  22\n",
            "3  23\n",
            "4  24\n",
            "5  25\n",
            "   판매량\n",
            "0   40\n",
            "1   42\n",
            "2   44\n",
            "3   46\n",
            "4   48\n",
            "5   50\n"
          ],
          "name": "stdout"
        }
      ]
    },
    {
      "cell_type": "code",
      "metadata": {
        "id": "3cDRumciu7r8"
      },
      "source": [
        "# 모델의 구조를 만든다. \n",
        "\n",
        "# 독립변수의 개수 1개\n",
        "X = tf.keras.layers.Input(shape=[1])\n",
        "# 종속변수의 개수 1개 \n",
        "Y = tf.keras.layers.Dense(1)(X)\n",
        "\n",
        "# 독립변수, 종속변수\n",
        "model = tf.keras.models.Model(X, Y)\n",
        "# 컴파일 \n",
        "model.compile(loss='mse')"
      ],
      "execution_count": 20,
      "outputs": []
    },
    {
      "cell_type": "markdown",
      "metadata": {
        "id": "NspkcOBpxF2B"
      },
      "source": [
        "## 모델 학습\n",
        "\n",
        "### loss\n",
        "- (예측 - 결과)^2\n",
        "\n",
        "- 그 시점의 모델이 얼마나 정답에 가깝게 맞추고 있는지 평가하는 지표 \n",
        "\n",
        "- 종속 변수와 예측 결과의 차이를 계산해서 그 값들의 평균을 구한 것\n",
        "\n",
        "- loss가 0에 가까워질수록 정답에 가까움\n",
        "\n",
        "\n",
        "### 진행 횟수\n",
        "- Epoch 2/100 : 100회의 학습 중 2번째 학습\n",
        "\n",
        "### 진행 속도\n",
        "- 5ms/step : 한 회당 학습 속도"
      ]
    },
    {
      "cell_type": "code",
      "metadata": {
        "id": "F01KsoQivFEI",
        "colab": {
          "base_uri": "https://localhost:8080/"
        },
        "outputId": "7648edcc-2388-48b7-be62-3cde08fdf19a"
      },
      "source": [
        "# 데이터로 모델을 학습(FIT)한다.\n",
        "# epochs: 몇 번 학습할 것인지 입력\n",
        "# verbose=0 : 화면 출력 X\n",
        "model.fit(independent, dependent, epochs=990, verbose=0)\n",
        "model.fit(independent, dependent, epochs=10)"
      ],
      "execution_count": 27,
      "outputs": [
        {
          "output_type": "stream",
          "text": [
            "Epoch 1/10\n",
            "1/1 [==============================] - 0s 4ms/step - loss: 3.7990e-04\n",
            "Epoch 2/10\n",
            "1/1 [==============================] - 0s 8ms/step - loss: 3.7966e-04\n",
            "Epoch 3/10\n",
            "1/1 [==============================] - 0s 5ms/step - loss: 3.7948e-04\n",
            "Epoch 4/10\n",
            "1/1 [==============================] - 0s 6ms/step - loss: 3.7923e-04\n",
            "Epoch 5/10\n",
            "1/1 [==============================] - 0s 7ms/step - loss: 3.7909e-04\n",
            "Epoch 6/10\n",
            "1/1 [==============================] - 0s 5ms/step - loss: 3.7897e-04\n",
            "Epoch 7/10\n",
            "1/1 [==============================] - 0s 8ms/step - loss: 3.7879e-04\n",
            "Epoch 8/10\n",
            "1/1 [==============================] - 0s 8ms/step - loss: 3.7855e-04\n",
            "Epoch 9/10\n",
            "1/1 [==============================] - 0s 3ms/step - loss: 3.7833e-04\n",
            "Epoch 10/10\n",
            "1/1 [==============================] - 0s 7ms/step - loss: 3.7807e-04\n"
          ],
          "name": "stdout"
        },
        {
          "output_type": "execute_result",
          "data": {
            "text/plain": [
              "<tensorflow.python.keras.callbacks.History at 0x7f6dca728910>"
            ]
          },
          "metadata": {
            "tags": []
          },
          "execution_count": 27
        }
      ]
    },
    {
      "cell_type": "code",
      "metadata": {
        "id": "ztldYmUjwn67",
        "colab": {
          "base_uri": "https://localhost:8080/"
        },
        "outputId": "ade4e0a0-0058-47c2-9038-782f5529a382"
      },
      "source": [
        "# 모델을 이용한다\n",
        "model.predict(independent)\n"
      ],
      "execution_count": 28,
      "outputs": [
        {
          "output_type": "execute_result",
          "data": {
            "text/plain": [
              "array([[40.034195],\n",
              "       [42.02566 ],\n",
              "       [44.01713 ],\n",
              "       [46.008602],\n",
              "       [48.00007 ],\n",
              "       [49.99154 ]], dtype=float32)"
            ]
          },
          "metadata": {
            "tags": []
          },
          "execution_count": 28
        }
      ]
    },
    {
      "cell_type": "code",
      "metadata": {
        "id": "jwoNFWV6w7Rj",
        "colab": {
          "base_uri": "https://localhost:8080/"
        },
        "outputId": "3f2f6665-a00e-4b4e-9592-3324c2387339"
      },
      "source": [
        "print(\"Predictions: \", model.predict([[15]]))"
      ],
      "execution_count": 10,
      "outputs": [
        {
          "output_type": "stream",
          "text": [
            "Predictions:  [[22.990213]]\n"
          ],
          "name": "stdout"
        }
      ]
    },
    {
      "cell_type": "markdown",
      "metadata": {
        "id": "Afltx2t2y6WG"
      },
      "source": [
        "# 보스턴 집값 예측\n",
        "\n",
        "## 각 열 의미\n",
        "- medv: 중간값(집값), 단위 $1000\n",
        "- crim: 범죄율\n",
        "- zn\n",
        "- indus\n",
        "- chas: 강변(charles river)\n",
        "- nox\n",
        "- rm: 평균 방 수\n",
        "- age: 노후주택 비율\n",
        "- dis \n",
        "- rad\n",
        "- tax: 재산세 비율\n",
        "- ptratio: 학생/교사 비율\n",
        "- b\n",
        "- lstat: 하위계층 비율 \n",
        "\n"
      ]
    },
    {
      "cell_type": "code",
      "metadata": {
        "id": "YPMQ9C_Ky8zG",
        "colab": {
          "base_uri": "https://localhost:8080/"
        },
        "outputId": "c7bbccc3-71c4-496e-9859-b8ea775d79c0"
      },
      "source": [
        "# 라이브러리 사용\n",
        "import tensorflow as tf\n",
        "import pandas as pd\n",
        "\n",
        "# 1. 데이터 준비\n",
        "file_route2 = 'https://raw.githubusercontent.com/blackdew/tensorflow1/master/csv/boston.csv'\n",
        "boston = pd.read_csv(file_route2)\n",
        "\n",
        "# 1-1. 준비한 데이터 확인 \n",
        "print(\"데이터 확인\")\n",
        "print(boston.shape)\n",
        "print(boston.columns)\n",
        "print(boston.head())\n",
        "\n",
        "# 칼럼 선택하기\n",
        "print(boston[['nox', 'lstat', 'medv']])\n",
        "\n",
        "# 1-2. 독립변수, 종속변수 분리\n",
        "independent = boston[['crim', 'zn', 'indus', 'chas', 'nox', 'rm', 'age', 'dis', 'rad', 'tax',\n",
        "            'ptratio', 'b', 'lstat']]\n",
        "dependent = boston[['medv']]\n",
        "print(independent.head())\n",
        "print(dependent.head())"
      ],
      "execution_count": 11,
      "outputs": [
        {
          "output_type": "stream",
          "text": [
            "Index(['crim', 'zn', 'indus', 'chas', 'nox', 'rm', 'age', 'dis', 'rad', 'tax',\n",
            "       'ptratio', 'b', 'lstat', 'medv'],\n",
            "      dtype='object')\n",
            "      crim    zn  indus  chas    nox  ...  tax  ptratio       b  lstat  medv\n",
            "0  0.00632  18.0   2.31     0  0.538  ...  296     15.3  396.90   4.98  24.0\n",
            "1  0.02731   0.0   7.07     0  0.469  ...  242     17.8  396.90   9.14  21.6\n",
            "2  0.02729   0.0   7.07     0  0.469  ...  242     17.8  392.83   4.03  34.7\n",
            "3  0.03237   0.0   2.18     0  0.458  ...  222     18.7  394.63   2.94  33.4\n",
            "4  0.06905   0.0   2.18     0  0.458  ...  222     18.7  396.90   5.33  36.2\n",
            "\n",
            "[5 rows x 14 columns]\n",
            "      crim    zn  indus  chas    nox  ...  rad  tax  ptratio       b  lstat\n",
            "0  0.00632  18.0   2.31     0  0.538  ...    1  296     15.3  396.90   4.98\n",
            "1  0.02731   0.0   7.07     0  0.469  ...    2  242     17.8  396.90   9.14\n",
            "2  0.02729   0.0   7.07     0  0.469  ...    2  242     17.8  392.83   4.03\n",
            "3  0.03237   0.0   2.18     0  0.458  ...    3  222     18.7  394.63   2.94\n",
            "4  0.06905   0.0   2.18     0  0.458  ...    3  222     18.7  396.90   5.33\n",
            "\n",
            "[5 rows x 13 columns]\n",
            "   medv\n",
            "0  24.0\n",
            "1  21.6\n",
            "2  34.7\n",
            "3  33.4\n",
            "4  36.2\n"
          ],
          "name": "stdout"
        }
      ]
    },
    {
      "cell_type": "code",
      "metadata": {
        "id": "api0k2fzzIeY"
      },
      "source": [
        "# 2. 모델의 구조를 만든다.\n",
        "X = tf.keras.layers.Input(shape=[13])\n",
        "Y = tf.keras.layers.Dense(1)(X)\n",
        "model = tf.keras.models.Model(X, Y)\n",
        "model.compile(loss='mse')"
      ],
      "execution_count": 12,
      "outputs": []
    },
    {
      "cell_type": "code",
      "metadata": {
        "id": "NuBxXG3z0BxQ",
        "colab": {
          "base_uri": "https://localhost:8080/"
        },
        "outputId": "f06b12a2-a839-4950-f76a-548c0a5731e2"
      },
      "source": [
        "# 3. 데이터로 모델을 학습(FIT)한다.\n",
        "model.fit(independent, dependent, epochs=3000, verbose=0)\n",
        "model.fit(independent, dependent, epochs=10)"
      ],
      "execution_count": 13,
      "outputs": [
        {
          "output_type": "stream",
          "text": [
            "Epoch 1/10\n",
            "16/16 [==============================] - 0s 1ms/step - loss: 24.7129\n",
            "Epoch 2/10\n",
            "16/16 [==============================] - 0s 1ms/step - loss: 24.3074\n",
            "Epoch 3/10\n",
            "16/16 [==============================] - 0s 1ms/step - loss: 24.6436\n",
            "Epoch 4/10\n",
            "16/16 [==============================] - 0s 1ms/step - loss: 24.3009\n",
            "Epoch 5/10\n",
            "16/16 [==============================] - 0s 2ms/step - loss: 24.1158\n",
            "Epoch 6/10\n",
            "16/16 [==============================] - 0s 1ms/step - loss: 24.4076\n",
            "Epoch 7/10\n",
            "16/16 [==============================] - 0s 1ms/step - loss: 24.4788\n",
            "Epoch 8/10\n",
            "16/16 [==============================] - 0s 1ms/step - loss: 24.2878\n",
            "Epoch 9/10\n",
            "16/16 [==============================] - 0s 1ms/step - loss: 24.5246\n",
            "Epoch 10/10\n",
            "16/16 [==============================] - 0s 1ms/step - loss: 24.8525\n"
          ],
          "name": "stdout"
        },
        {
          "output_type": "execute_result",
          "data": {
            "text/plain": [
              "<tensorflow.python.keras.callbacks.History at 0x7f6dd22ab5d0>"
            ]
          },
          "metadata": {
            "tags": []
          },
          "execution_count": 13
        }
      ]
    },
    {
      "cell_type": "code",
      "metadata": {
        "id": "ydMq7rfo0Skb",
        "colab": {
          "base_uri": "https://localhost:8080/",
          "height": 204
        },
        "outputId": "df86aa9f-ad5d-4044-def1-04983805d4ac"
      },
      "source": [
        "# 4. 모델을 이용한다. \n",
        "print(model.predict(independent[5:10]))\n",
        "print(dependent[5:10])"
      ],
      "execution_count": null,
      "outputs": [
        {
          "output_type": "stream",
          "text": [
            "[[25.410501]\n",
            " [21.91148 ]\n",
            " [18.94324 ]\n",
            " [10.783151]\n",
            " [18.288404]]\n",
            "   medv\n",
            "5  28.7\n",
            "6  22.9\n",
            "7  27.1\n",
            "8  16.5\n",
            "9  18.9\n"
          ],
          "name": "stdout"
        }
      ]
    },
    {
      "cell_type": "code",
      "metadata": {
        "id": "4vMcgN0i-JFQ",
        "colab": {
          "base_uri": "https://localhost:8080/"
        },
        "outputId": "16097187-bea2-40e0-c226-94f4fd4ea5f2"
      },
      "source": [
        "# 모델 수식 확인\n",
        "print(model.get_weights())"
      ],
      "execution_count": 14,
      "outputs": [
        {
          "output_type": "stream",
          "text": [
            "[array([[-0.09305909],\n",
            "       [ 0.05103278],\n",
            "       [-0.03377039],\n",
            "       [ 2.7598217 ],\n",
            "       [ 0.84188527],\n",
            "       [ 5.2734623 ],\n",
            "       [-0.01026585],\n",
            "       [-1.0052158 ],\n",
            "       [ 0.1843835 ],\n",
            "       [-0.01027561],\n",
            "       [-0.4184661 ],\n",
            "       [ 0.01428033],\n",
            "       [-0.47133264]], dtype=float32), array([4.7189074], dtype=float32)]\n"
          ],
          "name": "stdout"
        }
      ]
    },
    {
      "cell_type": "markdown",
      "metadata": {
        "id": "7VGhBJw_CxGl"
      },
      "source": [
        "house_price = -0.09296059 * x1 + 0.04728362 * x2 + -0.0201432 * x3 + ...\n"
      ]
    },
    {
      "cell_type": "markdown",
      "metadata": {
        "id": "dCA-l1B3IxQR"
      },
      "source": [
        "# 아이리스 품종 분류\n",
        "- 범주형 데이터\n",
        "- 분류(Classification)"
      ]
    },
    {
      "cell_type": "code",
      "metadata": {
        "id": "Q1O9RjbKCyGU",
        "colab": {
          "base_uri": "https://localhost:8080/",
          "height": 136
        },
        "outputId": "1a474c49-cfea-47de-fc78-f4d8edad7967"
      },
      "source": [
        "# 1. 데이터 가져오기\n",
        "# 라이브러리 사용\n",
        "import pandas as pd\n",
        "\n",
        "# 데이터 읽어오기 \n",
        "\n",
        "file_route3 = 'https://raw.githubusercontent.com/blackdew/tensorflow1/master/csv/iris.csv'\n",
        "iris = pd.read_csv(file_route3)\n",
        "\n",
        "# 데이터 모양 확인\n",
        "print(iris.shape)\n",
        "\n",
        "# 데이터 열 이름 확인\n",
        "print(iris.columns)\n",
        "\n",
        "# 데이터 상위 5개 확인 \n",
        "print(iris.head())\n",
        "\n",
        "# onehot-encoding: 품종(setosa, virginica, versicolor) => '품종_setosa', '품종_versicolor', '품종_virginica'\n",
        "iris = pd.get_dummies(iris)\n",
        "\n",
        "\n",
        "\n",
        "\n",
        "\n",
        "independent = iris[['꽃잎길이', '꽃잎폭', '꽃받침길이', '꽃받침폭']]\n",
        "dependent = iris[['품종_setosa', '품종_versicolor', '품종_virginica']]\n",
        "print(independent.head())\n",
        "print(dependent.shape)"
      ],
      "execution_count": null,
      "outputs": [
        {
          "output_type": "stream",
          "text": [
            "   꽃잎길이  꽃잎폭  꽃받침길이  꽃받침폭\n",
            "0   5.1  3.5    1.4   0.2\n",
            "1   4.9  3.0    1.4   0.2\n",
            "2   4.7  3.2    1.3   0.2\n",
            "3   4.6  3.1    1.5   0.2\n",
            "4   5.0  3.6    1.4   0.2\n",
            "(150, 3)\n"
          ],
          "name": "stdout"
        }
      ]
    },
    {
      "cell_type": "code",
      "metadata": {
        "id": "S_g1OgqsJSOQ"
      },
      "source": [
        "# 2. 모델의 구조를 만든다.\n",
        "X = tf.keras.layers.Input(shape=[4])\n",
        "\n",
        "# Activation함수(활성화 함수)\n",
        "# sigmoid, softmax: 특정 결과가 나올 확률을 수치로 도출 \n",
        "# softmax: 0과 1 사이의 결과값으로 나옴 \n",
        "Y = tf.keras.layers.Dense(3, activation='softmax')(X)\n",
        "model = tf.keras.models.Model(X, Y)\n",
        "# categorical_crossentropy로 계산된 차이값\n",
        "# accyracy를 같이 보여줌 \n",
        "model.compile(loss='categorical_crossentropy', metrics='accuracy')"
      ],
      "execution_count": null,
      "outputs": []
    },
    {
      "cell_type": "code",
      "metadata": {
        "id": "JqHeDDsKKIRu",
        "colab": {
          "base_uri": "https://localhost:8080/",
          "height": 374
        },
        "outputId": "9c5c1d87-2536-4e26-8515-a39b65bf8f40"
      },
      "source": [
        "# 3. 데이터로 모델을 학습(Fit)합니다.\n",
        "model.fit(independent, dependent, epochs=1000, verbose=0)\n",
        "model.fit(independent, dependent, epochs=10)"
      ],
      "execution_count": null,
      "outputs": [
        {
          "output_type": "stream",
          "text": [
            "Epoch 1/10\n",
            "5/5 [==============================] - 0s 2ms/step - loss: 0.1640 - accuracy: 0.9733\n",
            "Epoch 2/10\n",
            "5/5 [==============================] - 0s 1ms/step - loss: 0.1639 - accuracy: 0.9733\n",
            "Epoch 3/10\n",
            "5/5 [==============================] - 0s 1ms/step - loss: 0.1634 - accuracy: 0.9733\n",
            "Epoch 4/10\n",
            "5/5 [==============================] - 0s 2ms/step - loss: 0.1638 - accuracy: 0.9800\n",
            "Epoch 5/10\n",
            "5/5 [==============================] - 0s 1ms/step - loss: 0.1630 - accuracy: 0.9733\n",
            "Epoch 6/10\n",
            "5/5 [==============================] - 0s 1ms/step - loss: 0.1631 - accuracy: 0.9733\n",
            "Epoch 7/10\n",
            "5/5 [==============================] - 0s 2ms/step - loss: 0.1639 - accuracy: 0.9733\n",
            "Epoch 8/10\n",
            "5/5 [==============================] - 0s 2ms/step - loss: 0.1632 - accuracy: 0.9800\n",
            "Epoch 9/10\n",
            "5/5 [==============================] - 0s 2ms/step - loss: 0.1626 - accuracy: 0.9733\n",
            "Epoch 10/10\n",
            "5/5 [==============================] - 0s 2ms/step - loss: 0.1625 - accuracy: 0.9800\n"
          ],
          "name": "stdout"
        },
        {
          "output_type": "execute_result",
          "data": {
            "text/plain": [
              "<tensorflow.python.keras.callbacks.History at 0x7f442fd6e080>"
            ]
          },
          "metadata": {
            "tags": []
          },
          "execution_count": 41
        }
      ]
    },
    {
      "cell_type": "code",
      "metadata": {
        "id": "PTWVU6ztKYWL",
        "colab": {
          "base_uri": "https://localhost:8080/",
          "height": 408
        },
        "outputId": "5f4e50e3-99e5-4f52-e737-d17ab57e160c"
      },
      "source": [
        "# 4. 모델을 이용한다.\n",
        "# 첫 데이터 5개\n",
        "print(model.predict(independent[:5]))\n",
        "print(dependent[:5])\n",
        "\n",
        "print()\n",
        "# 마지막 데이터 5개\n",
        "print(model.predict(independent[-5:]))\n",
        "print(dependent[-5:])"
      ],
      "execution_count": null,
      "outputs": [
        {
          "output_type": "stream",
          "text": [
            "[[9.9917406e-01 8.2578720e-04 6.1443565e-08]\n",
            " [9.9729484e-01 2.7046339e-03 5.2496580e-07]\n",
            " [9.9837565e-01 1.6240928e-03 2.1870348e-07]\n",
            " [9.9560285e-01 4.3961853e-03 9.9022327e-07]\n",
            " [9.9923921e-01 7.6082471e-04 5.0672131e-08]]\n",
            "   품종_setosa  품종_versicolor  품종_virginica\n",
            "0          1              0             0\n",
            "1          1              0             0\n",
            "2          1              0             0\n",
            "3          1              0             0\n",
            "4          1              0             0\n",
            "\n",
            "[[4.8320834e-07 1.3877459e-01 8.6122489e-01]\n",
            " [1.2641316e-06 1.8540102e-01 8.1459767e-01]\n",
            " [1.9838249e-06 2.5119054e-01 7.4880743e-01]\n",
            " [3.2583685e-07 1.5083568e-01 8.4916395e-01]\n",
            " [3.7356831e-06 3.2534212e-01 6.7465419e-01]]\n",
            "     품종_setosa  품종_versicolor  품종_virginica\n",
            "145          0              0             1\n",
            "146          0              0             1\n",
            "147          0              0             1\n",
            "148          0              0             1\n",
            "149          0              0             1\n"
          ],
          "name": "stdout"
        }
      ]
    },
    {
      "cell_type": "code",
      "metadata": {
        "id": "ZcnYEo3CLIUY",
        "colab": {
          "base_uri": "https://localhost:8080/",
          "height": 105
        },
        "outputId": "bd3584b1-570e-4511-c5fd-7450e950671b"
      },
      "source": [
        "# weights & bias 출력\n",
        "print(model.get_weights())"
      ],
      "execution_count": null,
      "outputs": [
        {
          "output_type": "stream",
          "text": [
            "[array([[ 1.3729701 ,  0.2611539 , -0.31711322],\n",
            "       [ 2.2308123 ,  0.29900244, -1.3873504 ],\n",
            "       [-3.9313948 , -0.4603671 ,  0.979452  ],\n",
            "       [-4.329924  , -0.85880154,  1.9708254 ]], dtype=float32), array([ 1.6765242,  1.4561107, -1.7801377], dtype=float32)]\n"
          ],
          "name": "stdout"
        }
      ]
    },
    {
      "cell_type": "code",
      "metadata": {
        "id": "a-4u_x9TLiTU"
      },
      "source": [
        ""
      ],
      "execution_count": null,
      "outputs": []
    }
  ]
}