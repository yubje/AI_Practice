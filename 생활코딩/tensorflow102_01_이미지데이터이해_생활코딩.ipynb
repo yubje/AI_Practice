{
 "cells": [
  {
   "cell_type": "markdown",
   "metadata": {},
   "source": [
    "# 이미지 분류(CNN)\n",
    "\n",
    "# 01 이미지 데이터 이해 \n",
    "\n",
    "## 이미지셋 실습\n",
    "- MNIST : 손글씨 이미지셋(60000,28,28)\n",
    "- CIFAR10 : 10가지 분류 사물 이미지셋(50000,32,32)"
   ]
  },
  {
   "cell_type": "code",
   "execution_count": 4,
   "metadata": {},
   "outputs": [],
   "source": [
    "# 라이브러리 사용 \n",
    "import tensorflow as tf\n",
    "import matplotlib.pyplot as plt"
   ]
  },
  {
   "cell_type": "code",
   "execution_count": 7,
   "metadata": {
    "scrolled": true
   },
   "outputs": [
    {
     "name": "stdout",
     "output_type": "stream",
     "text": [
      "Downloading data from https://storage.googleapis.com/tensorflow/tf-keras-datasets/mnist.npz\n",
      "11493376/11490434 [==============================] - 2s 0us/step\n",
      "(60000, 28, 28) (60000,)\n",
      "Downloading data from https://www.cs.toronto.edu/~kriz/cifar-10-python.tar.gz\n",
      "170500096/170498071 [==============================] - 23s 0us/step\n",
      "(50000, 32, 32, 3) (50000, 1)\n"
     ]
    }
   ],
   "source": [
    "# 샘플 이미지셋 불러오기\n",
    "(mnist_x, mnist_y), _ = tf.keras.datasets.mnist.load_data()\n",
    "print(mnist_x.shape, mnist_y.shape)\n",
    "\n",
    "(cifar_x, cifar_y), _ = tf.keras.datasets.cifar10.load_data()\n",
    "print(cifar_x.shape, cifar_y.shape)"
   ]
  },
  {
   "cell_type": "markdown",
   "metadata": {},
   "source": [
    "## 1. 화면 출력"
   ]
  },
  {
   "cell_type": "code",
   "execution_count": 8,
   "metadata": {},
   "outputs": [
    {
     "name": "stdout",
     "output_type": "stream",
     "text": [
      "[5 0 4 1 9 2 1 3 1 4]\n"
     ]
    },
    {
     "data": {
      "text/plain": [
       "<matplotlib.image.AxesImage at 0x19176663c8>"
      ]
     },
     "execution_count": 8,
     "metadata": {},
     "output_type": "execute_result"
    },
    {
     "data": {
      "image/png": "[encoded data removed]",
      "text/plain": [
       "<Figure size 432x288 with 1 Axes>"
      ]
     },
     "metadata": {
      "needs_background": "light"
     },
     "output_type": "display_data"
    }
   ],
   "source": [
    "# 이미지 출력하기\n",
    "print(mnist_y[0:10]) # 0 ~ 9번째 인덱스의 숫자 값 출력 \n",
    "plt.imshow(mnist_x[4], cmap='gray')  # 4번째 사진 불러오기 "
   ]
  },
  {
   "cell_type": "code",
   "execution_count": 9,
   "metadata": {},
   "outputs": [
    {
     "name": "stdout",
     "output_type": "stream",
     "text": [
      "[[6]\n",
      " [9]\n",
      " [9]\n",
      " [4]\n",
      " [1]\n",
      " [1]\n",
      " [2]\n",
      " [7]\n",
      " [8]\n",
      " [3]]\n"
     ]
    },
    {
     "data": {
      "text/plain": [
       "<matplotlib.image.AxesImage at 0x191a3f4048>"
      ]
     },
     "execution_count": 9,
     "metadata": {},
     "output_type": "execute_result"
    },
    {
     "data": {
      "image/png": "[encoded data removed]",
      "text/plain": [
       "<Figure size 432x288 with 1 Axes>"
      ]
     },
     "metadata": {
      "needs_background": "light"
     },
     "output_type": "display_data"
    }
   ],
   "source": [
    "# 이미지 출력하기\n",
    "\n",
    "# 0 ~ 9번째 인덱스의 이미지 카테고리 번호 출력\n",
    "# 0 : airplane / 1 : automobile / 2 : bird / 3 : cat / 4 : deer / 5 : dog / 6 : frog / 7 : horse / 8 : ship / 9 : truck\n",
    "print(cifar_y[0:10])     \n",
    "plt.imshow(cifar_x[0])  # 0번째 사진 불러오기 "
   ]
  },
  {
   "cell_type": "markdown",
   "metadata": {},
   "source": [
    " ## 2. 차원 확인"
   ]
  },
  {
   "cell_type": "code",
   "execution_count": 11,
   "metadata": {},
   "outputs": [],
   "source": [
    "import numpy as np"
   ]
  },
  {
   "cell_type": "code",
   "execution_count": 12,
   "metadata": {},
   "outputs": [
    {
     "name": "stdout",
     "output_type": "stream",
     "text": [
      "(5,)\n",
      "(4, 5)\n",
      "(3, 4, 5)\n",
      "(2, 3, 4, 5)\n"
     ]
    }
   ],
   "source": [
    "d1 = np.array([1, 2, 3, 4, 5])\n",
    "print(d1.shape)  # 1차원, 5가지 원소 \n",
    " \n",
    "d2 = np.array([d1, d1, d1, d1])\n",
    "print(d2.shape) # 2차원\n",
    " \n",
    "d3 = np.array([d2, d2, d2])\n",
    "print(d3.shape) # 3차원\n",
    " \n",
    "d4 = np.array([d3, d3])\n",
    "print(d4.shape) # 4차원"
   ]
  },
  {
   "cell_type": "code",
   "execution_count": 13,
   "metadata": {},
   "outputs": [
    {
     "name": "stdout",
     "output_type": "stream",
     "text": [
      "(60000,)\n",
      "(50000, 1)\n"
     ]
    }
   ],
   "source": [
    "print(mnist_y.shape)\n",
    "print(cifar_y.shape)"
   ]
  },
  {
   "cell_type": "code",
   "execution_count": 16,
   "metadata": {},
   "outputs": [
    {
     "name": "stdout",
     "output_type": "stream",
     "text": [
      "x1 : mnist 모형\n",
      "(5,)\n",
      "[5 0 4 1 9]\n",
      "(5,)\n",
      "\n",
      "x2\n",
      "(1, 5)\n",
      "\n",
      "x3 : cifar 모형\n",
      "(5, 1)\n",
      "[[6]\n",
      " [9]\n",
      " [9]\n",
      " [4]\n",
      " [1]]\n",
      "(5, 1)\n"
     ]
    }
   ],
   "source": [
    "# (5, ), (5, 1), (1, 5) 비교\n",
    "\n",
    "print(\"x1 : mnist 모형\")\n",
    "x1 = np.array([1, 2, 3, 4, 5])\n",
    "print(x1.shape)\n",
    "print(mnist_y[0:5])\n",
    "print(mnist_y[0:5].shape)\n",
    "print()\n",
    "\n",
    "print(\"x2\")\n",
    "x2 = np.array([[1, 2, 3, 4, 5]])\n",
    "print(x2.shape)\n",
    "print()\n",
    "\n",
    "print(\"x3 : cifar 모형\")\n",
    "x3 = np.array([[1], [2], [3], [4], [5]])\n",
    "print(x3.shape)\n",
    "print(cifar_y[0:5])\n",
    "print(cifar_y[0:5].shape)"
   ]
  }
 ],
 "metadata": {
  "kernelspec": {
   "display_name": "Python 3",
   "language": "python",
   "name": "python3"
  },
  "language_info": {
   "codemirror_mode": {
    "name": "ipython",
    "version": 3
   },
   "file_extension": ".py",
   "mimetype": "text/x-python",
   "name": "python",
   "nbconvert_exporter": "python",
   "pygments_lexer": "ipython3",
   "version": "3.7.3"
  }
 },
 "nbformat": 4,
 "nbformat_minor": 4
}
