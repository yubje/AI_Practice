{
 "cells": [
  {
   "cell_type": "markdown",
   "metadata": {},
   "source": [
    "# 02 딥러닝 - Flatten Layer를 활용한 이미지 학습 \n",
    "> 1. 이미지셋 데이터를 표 형태의 데이터로 변형하여 학습한다. \n",
    "> 2. 딥러닝 모델의 \"특징 자동 추출기\"라는 별명의 의미를 이해한다.\n",
    "\n",
    "\n",
    "\n",
    "이미지들이 0~9까지 중 어느 숫자인지 판단하기 위해 가장 좋은 특징 84개를 찾아줘\n",
    "칼럼\n",
    "= 변수\n",
    "= 특징\n",
    "==> 특징 자동 추출기 "
   ]
  },
  {
   "cell_type": "code",
   "execution_count": 2,
   "metadata": {},
   "outputs": [],
   "source": [
    "# 라이브러리 사용 \n",
    "import tensorflow as tf\n",
    "import pandas as pd"
   ]
  },
  {
   "cell_type": "markdown",
   "metadata": {},
   "source": [
    "## reshape VS flatten\n",
    "\n",
    "- reshape : 28 X 28의 데이터를 784개의 값을 가진 1차원 데이터로 사전변환\n",
    "- flatten : tensorflow input값에 28 X 28의 데이터를 입력한 후 Flatten 함수로 데이터 변환"
   ]
  },
  {
   "cell_type": "markdown",
   "metadata": {},
   "source": [
    "### 1) with reshape"
   ]
  },
  {
   "cell_type": "code",
   "execution_count": 3,
   "metadata": {},
   "outputs": [
    {
     "name": "stdout",
     "output_type": "stream",
     "text": [
      "(60000, 28, 28) (60000,)\n",
      "(60000, 784) (60000, 10)\n"
     ]
    }
   ],
   "source": [
    "# 데이터 준비\n",
    "(independent, dependent), _ = tf.keras.datasets.mnist.load_data()\n",
    "print(independent.shape, dependent.shape)\n",
    "\n",
    "independent = independent.reshape(60000, 784) # 784개의 값이 1개의 이미지 데이터를 나타냄 \n",
    "dependent = pd.get_dummies(dependent)  # 분류 학습이므로 원핫인코딩\n",
    "\n",
    "print(independent.shape, dependent.shape)"
   ]
  },
  {
   "cell_type": "code",
   "execution_count": 4,
   "metadata": {},
   "outputs": [],
   "source": [
    "# 모델 생성\n",
    "X = tf.keras.layers.Input(shape=[784])\n",
    "H = tf.keras.layers.Dense(84, activation='swish')(X)  # 84개의 특징을 자동 추출하는 layer\n",
    "Y = tf.keras.layers.Dense(10, activation='softmax')(H) \n",
    "\n",
    "model = tf.keras.models.Model(X, Y)\n",
    "model.compile(loss='categorical_crossentropy', metrics='accuracy')"
   ]
  },
  {
   "cell_type": "code",
   "execution_count": 5,
   "metadata": {},
   "outputs": [
    {
     "name": "stdout",
     "output_type": "stream",
     "text": [
      "Epoch 1/10\n",
      "1875/1875 [==============================] - 8s 3ms/step - loss: 2.9812 - accuracy: 0.8558\n",
      "Epoch 2/10\n",
      "1875/1875 [==============================] - 6s 3ms/step - loss: 0.5846 - accuracy: 0.9133\n",
      "Epoch 3/10\n",
      "1875/1875 [==============================] - 6s 3ms/step - loss: 0.4829 - accuracy: 0.9303\n",
      "Epoch 4/10\n",
      "1875/1875 [==============================] - 6s 3ms/step - loss: 0.4342 - accuracy: 0.9376\n",
      "Epoch 5/10\n",
      "1875/1875 [==============================] - 6s 3ms/step - loss: 0.4156 - accuracy: 0.9435\n",
      "Epoch 6/10\n",
      "1875/1875 [==============================] - 6s 3ms/step - loss: 0.3905 - accuracy: 0.9457\n",
      "Epoch 7/10\n",
      "1875/1875 [==============================] - 6s 3ms/step - loss: 0.3716 - accuracy: 0.9492\n",
      "Epoch 8/10\n",
      "1875/1875 [==============================] - 6s 3ms/step - loss: 0.3602 - accuracy: 0.9502\n",
      "Epoch 9/10\n",
      "1875/1875 [==============================] - 6s 3ms/step - loss: 0.3475 - accuracy: 0.9545\n",
      "Epoch 10/10\n",
      "1875/1875 [==============================] - 6s 3ms/step - loss: 0.3439 - accuracy: 0.9550\n"
     ]
    },
    {
     "data": {
      "text/plain": [
       "<tensorflow.python.keras.callbacks.History at 0xbcf4777748>"
      ]
     },
     "execution_count": 5,
     "metadata": {},
     "output_type": "execute_result"
    }
   ],
   "source": [
    "# 모델 학습\n",
    "model.fit(independent, dependent, epochs=10)"
   ]
  },
  {
   "cell_type": "markdown",
   "metadata": {},
   "source": [
    "첫 10개의 종속변수 :  [5 0 4 1 9 2 1 3 1 4] "
   ]
  },
  {
   "cell_type": "code",
   "execution_count": 6,
   "metadata": {
    "scrolled": true
   },
   "outputs": [
    {
     "name": "stdout",
     "output_type": "stream",
     "text": [
      "     0    1    2    3    4    5    6    7    8    9\n",
      "0  0.0  0.0  0.0  0.0  0.0  1.0  0.0  0.0  0.0  0.0\n",
      "1  1.0  0.0  0.0  0.0  0.0  0.0  0.0  0.0  0.0  0.0\n",
      "2  0.0  0.0  0.0  0.0  1.0  0.0  0.0  0.0  0.0  0.0\n",
      "3  0.0  1.0  0.0  0.0  0.0  0.0  0.0  0.0  0.0  0.0\n",
      "4  0.0  0.0  0.0  0.0  0.0  0.0  0.0  0.0  0.0  1.0\n",
      "5  0.0  0.0  1.0  0.0  0.0  0.0  0.0  0.0  0.0  0.0\n",
      "6  0.0  1.0  0.0  0.0  0.0  0.0  0.0  0.0  0.0  0.0\n",
      "7  0.0  0.0  0.0  1.0  0.0  0.0  0.0  0.0  0.0  0.0\n",
      "8  0.0  1.0  0.0  0.0  0.0  0.0  0.0  0.0  0.0  0.0\n",
      "9  0.0  0.0  0.0  0.0  1.0  0.0  0.0  0.0  0.0  0.0\n",
      "   0  1  2  3  4  5  6  7  8  9\n",
      "0  0  0  0  0  0  1  0  0  0  0\n",
      "1  1  0  0  0  0  0  0  0  0  0\n",
      "2  0  0  0  0  1  0  0  0  0  0\n",
      "3  0  1  0  0  0  0  0  0  0  0\n",
      "4  0  0  0  0  0  0  0  0  0  1\n",
      "5  0  0  1  0  0  0  0  0  0  0\n",
      "6  0  1  0  0  0  0  0  0  0  0\n",
      "7  0  0  0  1  0  0  0  0  0  0\n",
      "8  0  1  0  0  0  0  0  0  0  0\n",
      "9  0  0  0  0  1  0  0  0  0  0\n"
     ]
    }
   ],
   "source": [
    "# 모델 이용\n",
    "pred = model.predict(independent[0:10])   # 5개의 데이터 확인 \n",
    "print(pd.DataFrame(pred).round(2))       # DataFrame로 변경하여 소수 2째자리에서 반올림\n",
    "print(dependent[0:10])"
   ]
  },
  {
   "cell_type": "markdown",
   "metadata": {},
   "source": [
    "### 2) with Flatten"
   ]
  },
  {
   "cell_type": "code",
   "execution_count": 7,
   "metadata": {},
   "outputs": [
    {
     "name": "stdout",
     "output_type": "stream",
     "text": [
      "(60000, 28, 28) (60000,)\n",
      "(60000, 28, 28) (60000, 10)\n"
     ]
    }
   ],
   "source": [
    "# 데이터 준비\n",
    "(independent, dependent), _ = tf.keras.datasets.mnist.load_data()\n",
    "print(independent.shape, dependent.shape)\n",
    "\n",
    "# independent = independent.reshape(60000, 784) # reshape를 하지 않는다. \n",
    "dependent = pd.get_dummies(dependent)  # 분류 학습이므로 원핫인코딩\n",
    "\n",
    "print(independent.shape, dependent.shape)"
   ]
  },
  {
   "cell_type": "code",
   "execution_count": 8,
   "metadata": {},
   "outputs": [],
   "source": [
    "# 모델 생성\n",
    "X = tf.keras.layers.Input(shape=[28, 28])  # 2차원 데이터 입력 \n",
    "H = tf.keras.layers.Flatten()(X)           # Flatten 함수 사용\n",
    "H = tf.keras.layers.Dense(84, activation='swish')(H)  # 84개의 특징을 자동 추출하는 layer\n",
    "Y = tf.keras.layers.Dense(10, activation='softmax')(H) \n",
    "\n",
    "model = tf.keras.models.Model(X, Y)\n",
    "model.compile(loss='categorical_crossentropy', metrics='accuracy')"
   ]
  },
  {
   "cell_type": "code",
   "execution_count": 9,
   "metadata": {},
   "outputs": [
    {
     "name": "stdout",
     "output_type": "stream",
     "text": [
      "Epoch 1/10\n",
      "1875/1875 [==============================] - 7s 3ms/step - loss: 2.3469 - accuracy: 0.8536\n",
      "Epoch 2/10\n",
      "1875/1875 [==============================] - 6s 3ms/step - loss: 0.5682 - accuracy: 0.9201\n",
      "Epoch 3/10\n",
      "1875/1875 [==============================] - 6s 3ms/step - loss: 0.4543 - accuracy: 0.9349\n",
      "Epoch 4/10\n",
      "1875/1875 [==============================] - 6s 3ms/step - loss: 0.4401 - accuracy: 0.9384\n",
      "Epoch 5/10\n",
      "1875/1875 [==============================] - 6s 3ms/step - loss: 0.4127 - accuracy: 0.9424\n",
      "Epoch 6/10\n",
      "1875/1875 [==============================] - 6s 3ms/step - loss: 0.3827 - accuracy: 0.9457\n",
      "Epoch 7/10\n",
      "1875/1875 [==============================] - 6s 3ms/step - loss: 0.3718 - accuracy: 0.9483\n",
      "Epoch 8/10\n",
      "1875/1875 [==============================] - 6s 3ms/step - loss: 0.3610 - accuracy: 0.9492\n",
      "Epoch 9/10\n",
      "1875/1875 [==============================] - 6s 3ms/step - loss: 0.3680 - accuracy: 0.9524\n",
      "Epoch 10/10\n",
      "1875/1875 [==============================] - 6s 3ms/step - loss: 0.3533 - accuracy: 0.9531\n"
     ]
    },
    {
     "data": {
      "text/plain": [
       "<tensorflow.python.keras.callbacks.History at 0xbcedf97860>"
      ]
     },
     "execution_count": 9,
     "metadata": {},
     "output_type": "execute_result"
    }
   ],
   "source": [
    "# 모델 학습\n",
    "model.fit(independent, dependent, epochs=10)"
   ]
  },
  {
   "cell_type": "markdown",
   "metadata": {},
   "source": [
    "첫 10개의 종속변수 :  [5 0 4 1 9 2 1 3 1 4] "
   ]
  },
  {
   "cell_type": "code",
   "execution_count": 21,
   "metadata": {
    "scrolled": true
   },
   "outputs": [
    {
     "name": "stdout",
     "output_type": "stream",
     "text": [
      "     0    1    2    3    4    5    6    7    8    9\n",
      "0  0.0  0.0  0.0  0.0  0.0  1.0  0.0  0.0  0.0  0.0\n",
      "1  1.0  0.0  0.0  0.0  0.0  0.0  0.0  0.0  0.0  0.0\n",
      "2  0.0  0.0  0.0  0.0  1.0  0.0  0.0  0.0  0.0  0.0\n",
      "3  0.0  1.0  0.0  0.0  0.0  0.0  0.0  0.0  0.0  0.0\n",
      "4  0.0  0.0  0.0  0.0  0.0  0.0  0.0  0.0  0.0  1.0\n",
      "5  0.0  0.0  1.0  0.0  0.0  0.0  0.0  0.0  0.0  0.0\n",
      "6  0.0  1.0  0.0  0.0  0.0  0.0  0.0  0.0  0.0  0.0\n",
      "7  0.0  0.0  0.0  1.0  0.0  0.0  0.0  0.0  0.0  0.0\n",
      "8  0.0  1.0  0.0  0.0  0.0  0.0  0.0  0.0  0.0  0.0\n",
      "9  0.0  0.0  0.0  0.0  1.0  0.0  0.0  0.0  0.0  0.0\n",
      "   0  1  2  3  4  5  6  7  8  9\n",
      "0  0  0  0  0  0  1  0  0  0  0\n",
      "1  1  0  0  0  0  0  0  0  0  0\n",
      "2  0  0  0  0  1  0  0  0  0  0\n",
      "3  0  1  0  0  0  0  0  0  0  0\n",
      "4  0  0  0  0  0  0  0  0  0  1\n",
      "5  0  0  1  0  0  0  0  0  0  0\n",
      "6  0  1  0  0  0  0  0  0  0  0\n",
      "7  0  0  0  1  0  0  0  0  0  0\n",
      "8  0  1  0  0  0  0  0  0  0  0\n",
      "9  0  0  0  0  1  0  0  0  0  0\n"
     ]
    }
   ],
   "source": [
    "# 모델 이용\n",
    "pred = model.predict(independent[0:10])   # 5개의 데이터 확인 \n",
    "print(pd.DataFrame(pred).round(2))       # DataFrame로 변경하여 소수 2째자리에서 반올림\n",
    "print(dependent[0:10])"
   ]
  },
  {
   "cell_type": "code",
   "execution_count": null,
   "metadata": {},
   "outputs": [],
   "source": []
  }
 ],
 "metadata": {
  "kernelspec": {
   "display_name": "Python 3",
   "language": "python",
   "name": "python3"
  },
  "language_info": {
   "codemirror_mode": {
    "name": "ipython",
    "version": 3
   },
   "file_extension": ".py",
   "mimetype": "text/x-python",
   "name": "python",
   "nbconvert_exporter": "python",
   "pygments_lexer": "ipython3",
   "version": "3.7.3"
  }
 },
 "nbformat": 4,
 "nbformat_minor": 4
}
