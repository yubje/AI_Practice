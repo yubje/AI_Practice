{
 "cells": [
  {
   "cell_type": "markdown",
   "metadata": {},
   "source": [
    "# 03 딥러닝 - Conv2D\n",
    "> 1. Convolution 에 대한 이해와 Convolution Layer의 사용법을 익힌다.\n",
    "> 2. Convolution 필터의 역할을 중심으로 Convolution Layer에 대한 이해를 한다.\n",
    "> 3. Convolution 연산이 어떻게 이루어지는지 확인한다"
   ]
  },
  {
   "cell_type": "markdown",
   "metadata": {},
   "source": [
    "# 1) 컨볼루션의 이해"
   ]
  },
  {
   "attachments": {},
   "cell_type": "markdown",
   "metadata": {},
   "source": [
    "<img src = \"./image/tensorflow102_03_01.jpg\" width=\"400px\">\n",
    "\n",
    "### \"O\" 모양이 존재하는 개수\n",
    "* 9 : 전체 - 1개 / 위 - 1개 / 아래 - 0개\n",
    "* 8 : 전체 - 2개 / 위 - 1개 / 아래 - 1개\n",
    "* 6 : 전체 - 1개 / 위 - 0개 / 아래 - 1개\n",
    "* 0 : 전체 - 1개 / 위 - 0개 / 아래 - 0개\n",
    "\n",
    "## Convolution이란?\n",
    "* 합성곱\n",
    "* **특정한 패턴의 특징이 어디서 나타나는지 확인하는 도구**"
   ]
  },
  {
   "cell_type": "markdown",
   "metadata": {},
   "source": [
    "## 특징맵(feature map)\n",
    "> 특징에 대한 위치정보가 표현된 맵\n",
    "\n",
    "<img src = \"./image/tensorflow102_03_02.jpg\" width=\"200px\">\n",
    "\n",
    "### 가로 filter\n",
    "<img src = \"./image/tensorflow102_03_03.jpg\" width=\"400px\">\n",
    "\n",
    "### 세로 filter\n",
    "\n",
    "<img src = \"./image/tensorflow102_03_04.jpg\" width=\"400px\">\n"
   ]
  },
  {
   "cell_type": "code",
   "execution_count": 1,
   "metadata": {},
   "outputs": [],
   "source": [
    "# 라이브러리 준비\n",
    "import tensorflow as tf\n",
    "import pandas as pd"
   ]
  },
  {
   "cell_type": "code",
   "execution_count": 2,
   "metadata": {},
   "outputs": [
    {
     "name": "stdout",
     "output_type": "stream",
     "text": [
      "(60000, 28, 28, 1) (60000, 10)\n"
     ]
    }
   ],
   "source": [
    "# 데이터 준비\n",
    "(independent, dependent), _ = tf.keras.datasets.mnist.load_data()\n",
    "independent = independent.reshape(60000, 28, 28, 1)\n",
    "dependent = pd.get_dummies(dependent)\n",
    "print(independent.shape, dependent.shape)"
   ]
  },
  {
   "cell_type": "markdown",
   "metadata": {},
   "source": [
    "## conversion layer 2개 추가\n",
    "1. 필터 셋을 몇 개 사용할 것인가? ex. `3`, `6` : 3개의 필터 셋 사용, 6개의 필터 셋 사용\n",
    " * `n`개의 특징 맵을 만듬 = `n`채널의 특징맵\n",
    "2. 필터셋의 사이즈를 얼마로 할 것인가? ex. `kernal_size=5` : 5 X 5 사이즈의 필터 셋 사용\n",
    "\n",
    "#### 채널이란?\n",
    "> 색채 layer\n",
    "\n",
    "* 3채널 : 컬러 이미지\n",
    "* 1채널 : 흑백 이미지\n",
    "* 이미지 shape은 다음과 같이 표기 (이미지 사이즈, 채널)\n",
    "  ex. (32, 32, 3) : 컬러 사진 / (28, 28, 1) : 흑백 사진"
   ]
  },
  {
   "cell_type": "code",
   "execution_count": 3,
   "metadata": {},
   "outputs": [],
   "source": [
    "# 모델 생성\n",
    "X = tf.keras.layers.Input(shape=[28, 28, 1])\n",
    "H = tf.keras.layers.Conv2D(3, kernel_size=5, activation='swish')(X) # 3개의 특징맵 = 3채널의 특징맵\n",
    "H = tf.keras.layers.Conv2D(6, kernel_size=5, activation='swish')(H) # 6개의 트징맵 = 6채널의 특징맵\n",
    "H = tf.keras.layers.Flatten()(H)  # 픽셀 단위로 합친다. 28 X 28 X 1 (3차원 : 3색) \n",
    "H = tf.keras.layers.Dense(84, activation='swish')(H)\n",
    "Y = tf.keras.layers.Dense(10, activation='softmax')(H)\n",
    "model = tf.keras.models.Model(X, Y)\n",
    "model.compile(loss='categorical_crossentropy', metrics='accuracy')"
   ]
  },
  {
   "cell_type": "markdown",
   "metadata": {},
   "source": [
    "# 2) 필터의 이해\n",
    "1. 필터셋은 **3차원 형태로 된 가중치**의 모음\n",
    "2. 필터셋 하나는 앞선 레이어의 결과인 **\"특징맵\" 전체를 본다.**\n",
    "3. **필터셋 개수 만큼** 특징맵을 만든다"
   ]
  },
  {
   "cell_type": "markdown",
   "metadata": {},
   "source": [
    "* 특징 자동 추출기\n",
    "\n",
    "`H = tf.keras.layers.Conv2D(6, kernel_size=5, activation='swish')(H)`\n",
    "\n",
    "이 이미지들이 0 ~ 9까지 중 어느 숫자인지 판단하기 위해 가장 좋은 특징맵 6개를 찾아줘"
   ]
  },
  {
   "cell_type": "code",
   "execution_count": 5,
   "metadata": {},
   "outputs": [
    {
     "name": "stdout",
     "output_type": "stream",
     "text": [
      "Epoch 1/10\n",
      "1875/1875 [==============================] - 80s 41ms/step - loss: 0.2486 - accuracy: 0.9375\n",
      "Epoch 2/10\n",
      "1875/1875 [==============================] - 62s 33ms/step - loss: 0.0715 - accuracy: 0.9794\n",
      "Epoch 3/10\n",
      "1875/1875 [==============================] - 62s 33ms/step - loss: 0.0445 - accuracy: 0.9870\n",
      "Epoch 4/10\n",
      "1875/1875 [==============================] - 62s 33ms/step - loss: 0.0291 - accuracy: 0.9913\n",
      "Epoch 5/10\n",
      "1875/1875 [==============================] - 62s 33ms/step - loss: 0.0222 - accuracy: 0.9936\n",
      "Epoch 6/10\n",
      "1875/1875 [==============================] - 64s 34ms/step - loss: 0.0164 - accuracy: 0.9950\n",
      "Epoch 7/10\n",
      "1875/1875 [==============================] - 62s 33ms/step - loss: 0.0148 - accuracy: 0.9956\n",
      "Epoch 8/10\n",
      "1875/1875 [==============================] - 61s 33ms/step - loss: 0.0143 - accuracy: 0.9960\n",
      "Epoch 9/10\n",
      "1875/1875 [==============================] - 61s 33ms/step - loss: 0.0125 - accuracy: 0.9967\n",
      "Epoch 10/10\n",
      "1875/1875 [==============================] - 61s 33ms/step - loss: 0.0126 - accuracy: 0.9966\n"
     ]
    },
    {
     "data": {
      "text/plain": [
       "<tensorflow.python.keras.callbacks.History at 0xe734e42550>"
      ]
     },
     "execution_count": 5,
     "metadata": {},
     "output_type": "execute_result"
    }
   ],
   "source": [
    "# 모델 학습\n",
    "model.fit(independent, dependent, epochs=10)"
   ]
  },
  {
   "cell_type": "code",
   "execution_count": null,
   "metadata": {},
   "outputs": [],
   "source": [
    "# 모델 이용\n",
    "pred = model.predict(independent[0:5])\n",
    "pd.DataFrame(pred).round(2)"
   ]
  },
  {
   "cell_type": "code",
   "execution_count": null,
   "metadata": {},
   "outputs": [],
   "source": [
    "# 정답 확인\n",
    "dependent[0:5]"
   ]
  },
  {
   "cell_type": "code",
   "execution_count": null,
   "metadata": {},
   "outputs": [],
   "source": [
    "# 모델 확인\n",
    "model.summary()"
   ]
  }
 ],
 "metadata": {
  "kernelspec": {
   "display_name": "Python 3",
   "language": "python",
   "name": "python3"
  },
  "language_info": {
   "codemirror_mode": {
    "name": "ipython",
    "version": 3
   },
   "file_extension": ".py",
   "mimetype": "text/x-python",
   "name": "python",
   "nbconvert_exporter": "python",
   "pygments_lexer": "ipython3",
   "version": "3.7.3"
  }
 },
 "nbformat": 4,
 "nbformat_minor": 4
}
